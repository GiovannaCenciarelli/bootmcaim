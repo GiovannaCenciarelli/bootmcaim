{
  "nbformat": 4,
  "nbformat_minor": 0,
  "metadata": {
    "colab": {
      "provenance": [],
      "authorship_tag": "ABX9TyNI/Vl7PD37IbmnOcywsO+d",
      "include_colab_link": true
    },
    "kernelspec": {
      "name": "python3",
      "display_name": "Python 3"
    },
    "language_info": {
      "name": "python"
    }
  },
  "cells": [
    {
      "cell_type": "markdown",
      "metadata": {
        "id": "view-in-github",
        "colab_type": "text"
      },
      "source": [
        "<a href=\"https://colab.research.google.com/github/GiovannaCenciarelli/bootmcaim/blob/main/C%C3%B3pia_de_Untitled0.ipynb\" target=\"_parent\"><img src=\"https://colab.research.google.com/assets/colab-badge.svg\" alt=\"Open In Colab\"/></a>"
      ]
    },
    {
      "cell_type": "code",
      "execution_count": null,
      "metadata": {
        "colab": {
          "base_uri": "https://localhost:8080/"
        },
        "id": "dzkJt9nsaBZL",
        "outputId": "272199a8-1b03-4275-aaee-3c6903d1dbaa"
      },
      "outputs": [
        {
          "output_type": "stream",
          "name": "stdout",
          "text": [
            "Requirement already satisfied: requests in /usr/local/lib/python3.10/dist-packages (2.32.3)\n",
            "Collecting python-docx\n",
            "  Downloading python_docx-1.1.2-py3-none-any.whl.metadata (2.0 kB)\n",
            "Requirement already satisfied: charset-normalizer<4,>=2 in /usr/local/lib/python3.10/dist-packages (from requests) (3.4.0)\n",
            "Requirement already satisfied: idna<4,>=2.5 in /usr/local/lib/python3.10/dist-packages (from requests) (3.10)\n",
            "Requirement already satisfied: urllib3<3,>=1.21.1 in /usr/local/lib/python3.10/dist-packages (from requests) (2.2.3)\n",
            "Requirement already satisfied: certifi>=2017.4.17 in /usr/local/lib/python3.10/dist-packages (from requests) (2024.8.30)\n",
            "Requirement already satisfied: lxml>=3.1.0 in /usr/local/lib/python3.10/dist-packages (from python-docx) (5.3.0)\n",
            "Requirement already satisfied: typing-extensions>=4.9.0 in /usr/local/lib/python3.10/dist-packages (from python-docx) (4.12.2)\n",
            "Downloading python_docx-1.1.2-py3-none-any.whl (244 kB)\n",
            "\u001b[2K   \u001b[90m━━━━━━━━━━━━━━━━━━━━━━━━━━━━━━━━━━━━━━━━\u001b[0m \u001b[32m244.3/244.3 kB\u001b[0m \u001b[31m4.6 MB/s\u001b[0m eta \u001b[36m0:00:00\u001b[0m\n",
            "\u001b[?25hInstalling collected packages: python-docx\n",
            "Successfully installed python-docx-1.1.2\n"
          ]
        }
      ],
      "source": [
        "!pip install requests python-docx"
      ]
    },
    {
      "cell_type": "code",
      "source": [
        "import requests\n",
        "import os\n",
        "from docx import Document\n",
        "\n",
        "subscription_key = \"8Z5MH2vRDayEl5N9ci5CGpUiYBvS8fZx7670jL5mO2J8T9mVKqPrJQQJ99AKACHYHv6XJ3w3AAAbACOGSa6n\"\n",
        "endpoint = \"https://api.cognitive.microsofttranslator.com\"\n",
        "location = \"eastus2\"\n",
        "target_language = \"pt-br\"\n",
        "\n",
        "def translator_text(text, target_language):\n",
        "    path = \"/translate\"\n",
        "    constructed_url = endpoint + path\n",
        "    headers = {\n",
        "        \"Ocp-Apim-Subscription-Key\": subscription_key,\n",
        "        \"Ocp-Apim-Subscription-Region\": location,\n",
        "        \"Content-type\": \"application/json\",\n",
        "        \"X-ClientTraceId\": str(os.urandom(16))\n",
        "    }\n",
        "\n",
        "    body = [{\n",
        "        \"text\": text\n",
        "    }]\n",
        "\n",
        "    params = {\n",
        "        \"api-version\": \"3.0\",\n",
        "        \"from\": \"it\",\n",
        "        \"to\": target_language\n",
        "    }\n",
        "\n",
        "    request = requests.post(constructed_url, params=params, headers=headers, json=body)\n",
        "    response = request.json()\n",
        "    return response[0][\"translations\"][0][\"text\"]\n",
        "\n",
        "# Chamada da função\n",
        "print(translator_text(\"io sono brasiliana\", target_language))\n"
      ],
      "metadata": {
        "colab": {
          "base_uri": "https://localhost:8080/"
        },
        "id": "SAXHTCuEa2K7",
        "outputId": "81701739-3da9-45dd-9c1c-595a2d00c1d3"
      },
      "execution_count": null,
      "outputs": [
        {
          "output_type": "stream",
          "name": "stdout",
          "text": [
            "Eu sou brasileiro\n"
          ]
        }
      ]
    },
    {
      "cell_type": "code",
      "source": [
        "translator_text(\"io sono brasiliana\",language_destination)"
      ],
      "metadata": {
        "colab": {
          "base_uri": "https://localhost:8080/",
          "height": 35
        },
        "id": "WpqACK_CoJOY",
        "outputId": "6facea3e-7b44-4032-c0b5-1c1abc88a956"
      },
      "execution_count": null,
      "outputs": [
        {
          "output_type": "execute_result",
          "data": {
            "text/plain": [
              "'Eu sou brasileiro'"
            ],
            "application/vnd.google.colaboratory.intrinsic+json": {
              "type": "string"
            }
          },
          "metadata": {},
          "execution_count": 8
        }
      ]
    },
    {
      "cell_type": "code",
      "source": [
        "\n",
        "def translate_document(path):\n",
        "    document = Document(path)\n",
        "    full_text = []\n",
        "\n",
        "    # Traduz cada parágrafo e armazena o texto traduzido\n",
        "    for paragraph in document.paragraphs:\n",
        "        translated_text = translator_document(paragraph.text, language_destination)\n",
        "        full_text.append(translated_text)\n",
        "\n",
        "    # Cria um novo documento com o texto traduzido\n",
        "    translated_doc = Document()\n",
        "    for line in full_text:\n",
        "        translated_doc.add_paragraph(line)\n",
        "\n",
        "    # Salva o documento traduzido\n",
        "    path_translated = path.replace(\".docx\", f\"_{language_destination}.docx\")\n",
        "    translated_doc.save(path_translated)\n",
        "    return path_translated\n"
      ],
      "metadata": {
        "id": "GpZAmPa_o6zV"
      },
      "execution_count": null,
      "outputs": []
    },
    {
      "cell_type": "markdown",
      "source": [],
      "metadata": {
        "id": "cgNioRQCr13a"
      }
    },
    {
      "cell_type": "code",
      "source": [
        "from docx import Document\n",
        "\n",
        "def translate_document(path):\n",
        "    document = Document(path)\n",
        "    full_text = []\n",
        "\n",
        "    # Traduz cada parágrafo e armazena o texto traduzido\n",
        "    for paragraph in document.paragraphs:\n",
        "        translated_text = translator_document(paragraph.text, language_destination)\n",
        "        full_text.append(translated_text)\n",
        "\n",
        "    # Cria um novo documento com o texto traduzido\n",
        "    translated_doc = Document()\n",
        "    for line in full_text:\n",
        "        translated_doc.add_paragraph(line)\n",
        "\n",
        "    # Salva o documento traduzido\n",
        "    path_translated = path.replace(\".docx\", f\"_{language_destination}.docx\")\n",
        "    translated_doc.save(path_translated)\n",
        "\n",
        "    # Exibe o conteúdo traduzido no console\n",
        "    for line in full_text:\n",
        "        print(line)\n",
        "\n",
        "    return path_translated\n",
        "\n",
        "# Caminho do arquivo de entrada\n",
        "input_file = \"/content/MUSICA.docx\"\n",
        "\n",
        "# Chamando a função para traduzir o documento e exibir a tradução\n",
        "translate_document(input_file)\n"
      ],
      "metadata": {
        "colab": {
          "base_uri": "https://localhost:8080/",
          "height": 678
        },
        "id": "tjtrdXNkrs-4",
        "outputId": "fab59a03-c1d4-4c2d-9a58-a815c8c887c7"
      },
      "execution_count": null,
      "outputs": [
        {
          "output_type": "stream",
          "name": "stdout",
          "text": [
            "Você conhece a lua no sábado à noite?\n",
            "Quero dizer o real, quero dizer o real\n",
            "Você conhece as estrelas e as Torres Gêmeas?\n",
            "Aqueles que não existem mais, aqueles que não existem mais\n",
            "E se eu falar com você sobre futebol e se eu tocar um banjo para você\n",
            "Você diz que estou deprimido\n",
            "Que eu não estou no contexto, que cheiro podre\n",
            "Mas se eu te levar para a floresta, você me diz: \"Leve-me para o centro\"\n",
            "Porque não há arremesso lá, então você sai da sua mente como da última vez\n",
            "Somos o exército da selfie, de quem se bronzeia com o iPhone\n",
            "Mas não temos mais contatos, só curte outro post\n",
            "Hmm, mas eu sinto sua falta, eu sinto sua falta, eu sinto sua falta\n",
            "Eu sinto sua falta em carne e osso\n",
            "Sinto sua falta na lista\n",
            "Das coisas que eu não tenho, que eu não tenho, que eu não tenho\n",
            "Você sabe sábado à noite?\n",
            "Quero dizer o preto, quero dizer o preto\n",
            "Você conhece pessoas correndo de cueca?\n",
            "Ele diz que eles não existem mais, ele diz que eles não existem mais\n",
            "E se eu falar com você sobre sexo, papel, tesoura ou pedra?\n",
            "Ele diz que estou deprimido\n",
            "Que eu não estou no contexto, que cheiro podre\n",
            "Mas se eu te levar ao parque você me diz: \"Leve-me para o centro\"\n",
            "Porque não há arremesso lá, então você sai da sua mente como da última vez\n",
            "Somos o exército da selfie, de quem se bronzeia com o iPhone\n",
            "Mas não temos mais contatos, só curte outro post\n",
            "Hmm, mas eu sinto sua falta, eu sinto sua falta, eu sinto sua falta\n",
            "Eu sinto sua falta em carne e osso (eu sinto sua falta em carne e osso)\n",
            "Eu sinto sua falta na lista (eu sinto sua falta na lista)\n",
            "Das coisas que eu não tenho, que eu não tenho, que eu não tenho (Que eu não tenho)\n",
            "Somos o exército da selfie, de quem se bronzeia com o iPhone\n",
            "Mas não temos mais contatos, só curte outro post\n",
            "Hmm, mas eu sinto sua falta, eu sinto sua falta, eu sinto sua falta\n",
            "Eu sinto sua falta em carne e osso (eu sinto sua falta em carne e osso)\n",
            "Eu sinto sua falta na lista (eu sinto sua falta na lista)\n",
            "Das coisas que eu não tenho, que eu não tenho, que eu não tenho (Que eu não tenho)\n",
            "\n"
          ]
        },
        {
          "output_type": "execute_result",
          "data": {
            "text/plain": [
              "'/content/MUSICA_pt-br.docx'"
            ],
            "application/vnd.google.colaboratory.intrinsic+json": {
              "type": "string"
            }
          },
          "metadata": {},
          "execution_count": 14
        }
      ]
    }
  ]
}